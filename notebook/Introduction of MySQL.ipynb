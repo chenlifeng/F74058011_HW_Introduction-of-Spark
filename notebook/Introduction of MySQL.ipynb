{
 "cells": [
  {
   "cell_type": "markdown",
   "metadata": {},
   "source": [
    "<!--BOOK_INFORMATION-->\n",
    "<img align=\"left\" style=\"padding-right:10px;\" src=\"figures/MySQL.png\">\n"
   ]
  },
  {
   "cell_type": "markdown",
   "metadata": {},
   "source": [
    "# MySQL介绍"
   ]
  },
  {
   "cell_type": "markdown",
   "metadata": {},
   "source": [
    "  MySQL是一个关系型数据库管理系统，由瑞典MySQL AB 公司开发，目前属于 Oracle 旗下产品。MySQL 最流行的关系型数据库管理系统，在 WEB 应用方面MySQL是最好的 RDBMS (Relational Database Management System，关系数据库管理系统) 应用软件之一。它是一种关联数据库管理系统，关联数据库将数据保存在不同的表中，而不是将所有数据放在一个大仓库内，这样就增加了速度并提高了灵活性。\n",
    "  MySQL所使用的 SQL 语言是用于访问数据库的最常用标准化语言。MySQL 软件采用了双授权政策，它分为社区版和商业版，由于其体积小、速度快、总体拥有成本低，尤其是开放源码这一特点，一般中小型网站的开发都选择 MySQL 作为网站数据库。由于其社区版的性能卓越，搭配 PHP 和 Apache 可组成良好的开发环境。\n"
   ]
  },
  {
   "cell_type": "markdown",
   "metadata": {},
   "source": [
    "## MySQL特性\n",
      "\n",
    "1．使用 C和 C++编写，并使用了多种编译器进行测试，保证了源代码的可移植性。\n",
      "\n",
    "2．支持 AIX、FreeBSD、HP-UX、Linux、Mac OS、NovellNetware、OpenBSD、OS/2 Wrap、Solaris、Windows等多种操作系统。\n",
      "\n",
    "3．为多种编程语言提供了 API。这些编程语言包括 C、C++、Python、Java、Perl、PHP、Eiffel、Ruby,.NET和 Tcl 等。\n",
      "\n",
    "4．支持多线程，充分利用 CPU 资源。\n",
      "\n",
    "5．优化的 SQL查询算法，有效地提高查询速度。\n",
      "\n",
    "6．既能够作为一个单独的应用程序应用在客户端服务器网络环境中，也能够作为一个库而嵌入到其他的软件中。\n",
      "\n",
    "7．提供多语言支持，常见的编码如中文的 GB 2312、BIG5，日文的 Shift_JIS等都可以用作数据表名和数据列名。\n",
      "\n",
    "8．提供 TCP/IP、ODBC 和 JDBC等多种数据库连接途径。\n",
      "\n",
    "9．提供用于管理、检查、优化数据库操作的管理工具。\n",
      "\n",
    "10．支持大型的数据库。可以处理拥有上千万条记录的大型数据库。\n",
      "\n",
    "11．支持多种存储引擎。\n",
      "\n",
    "12．MySQL 是开源的，所以你不需要支付额外的费用。\n",
      "\n",
    "13．MySQL 使用标准的 SQL数据语言形式。\n",
      "\n",
    "14．MySQL 对 PHP 有很好的支持，PHP是目前最流行的 Web 开发语言。\n",
      "\n",
    "15．MySQL是可以定制的，采用了 GPL协议，你可以修改源码来开发自己的 MySQL 系统。"
   ]
  },
  {
   "cell_type": "markdown",
   "metadata": {},
   "source": [
    "MySQL各个存储引擎\n",
    "\n",
    "innodb存储引擎：面向oltp(online transaction processing)、行锁、支持外键、非锁定读、默认采用repeaable级别（可重复读）通过next-keylocking策略避免幻读、插入缓冲、二次写、自适应哈希索引、预读\n",
     "\n",
    "myisam存储引擎：不支持事务、表锁、全文索引、适合olap（在线分析处理），其中myd:放数据文件，myi:放索引文件\n",
     "\n",
    "ndb存储引擎：集群存储引擎，share nothing，可提高可用性\n",
     "\n",
    "memory存储引擎：数据存放在内存中，表锁，并发性能差，默认使用哈希索引\n",
     "\n",
    "archive存储引擎：只支持insert和select zlib算法压缩1：10，适合存储归档数据如日志等、行锁\n",
     "\n",
    "maria存储引擎：目的取代myisam、缓存数据和索引、行锁、mvcc\n",
     "\n",
   "<img align=\"left\" style=\"padding-right:10px;\" src=\"figures/mysql-storage.png\">\n"
   ]
  },
  {
   "cell_type": "markdown",
   "metadata": {},
   "source": [
    "### MySQL 文件\n",
    "\n",
    "参数文件：告诉Mysql实例启动时在哪里可以找到数据库文件，并且指定某些初始化参数，这些参数定义了某种内存结构的大小等设置。用文件存储，可编辑，若启动时加载不到则不能成功启动（与其他数据库不同）。参数有动态和静态之分，静态相当于只读，动态是可以set的。如我们通过show variable like '***'查出来的key、value值，是可以通过set key=value直接修改的。同是，修改时还有作用域之分，即这个seesion个有效和全局有效，在对应的key前加上session或global即可，如select @@seesion.read_buffer_size、set @@global.read_buffer_size。\n",
     "\n",
    "日志文件：用来记录Mysql实例对某种条件做出响应时写入的文件。如错误日志文件、二进制日志文件、慢查询日志文件、查询日志文件等。\n",
     "\n",
    "错误日志：通过show variables like 'log_error'来查看错误日志存放地址。\n",
     "\n",
    "慢查询日志：通过show variables like '%long%' 查看慢查询日志记录的阈值，新版本设成了0.05；通过show variables like 'log_slow_queries'查看是否开启了，默认为关闭的；通过show variabes like 'log_queries_not_using_indexes'查看是将没有使用索引的查询记录到慢日志中。mysql中可以直接通过mysqldumpslow命令来查看慢日志。\n",
      "\n",
    "二进制文件：不记录查询，只记录对数据库所有的修改操作。目的是为了恢复(point-in-time修复)和复制。通过show variables like 'datadir'查看存放路径。二进制日志支持STATEMENT、ROW、MIX三种格式，通过binlog_format参数设定，通常设置为ROW，可以为数据库的恢复和复制带来更好的可靠性，但会带来二进制文件大小的增加，复制时会增加网络开销。mysql中通过mysqlbinlog查看二进制日志文件内容。\n",
      "\n",
    "socket文件：当用Unix域套接字方式进行连接时需要的文件。\n",
      "\n",
    "pid文件：Mysql实例的进程ID文件。 \n",
      "\n",
    "Mysql表结构文件：用来存放Mysql表结构定义文件。因为Mysql插件式存储引擎的体系结构，每个表都有一个对应的文件，以frm后缀结尾。\n",
      "\n",
    "存储引擎文件：存储自己的文件来保存各种数据，真正存储了数据和索引等数据。下面主要介绍InnoDB的存储引擎下的表空间文件和重做日志文件。\n",
      "\n",
    "表空间文件：InnoDB默认的表空间文件为ibdata1,可通过show variables like 'innodb_file_per_table'查看每个表是否产生单独的.idb表空间文件。但是，单独的表空间文件仅存储该表的数据、索引和插入缓冲等信息，其余信息还是存放在默认的表空间中。\n",
      "\n",
    "重做日志文件：实例和介质失败，重做日志文件就能派上用场，如数据库掉电，InnoDB存储引擎会使用重做日志恢复到掉电前的时刻，以此来保证数据的完整性。参数innodb_log_file_size指定了重做日志文件的大小；innodb_log_file_in_group指定了日志文件组中重做日志文件的数量，默认为2，innodb_mirrored_log_groups指定了日志镜像文件组的数量，默认为1，代表只有一个日志文件组，没有镜像；innodb_log_group_home_dir指定了日志文件组所在路径，默认在数据库路径下。\n"
   ]
  }
 ],
 "metadata": {
  "anaconda-cloud": {},
  "kernelspec": {
   "display_name": "Python 3",
   "language": "python",
   "name": "python3"
  },
  "language_info": {
   "codemirror_mode": {
    "name": "ipython",
    "version": 3
   },
   "file_extension": ".py",
   "mimetype": "text/x-python",
   "name": "python",
   "nbconvert_exporter": "python",
   "pygments_lexer": "ipython3",
   "version": "3.5.1"
  }
 },
 "nbformat": 4,
 "nbformat_minor": 0
}

  
