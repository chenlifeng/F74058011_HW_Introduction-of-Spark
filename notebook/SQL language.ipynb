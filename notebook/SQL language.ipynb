{
 "cells": [
  {
   "cell_type": "markdown",
   "metadata": {},
   "source": [
    "# SQL——Structured Query Language\n"
   ]
  },
  {
   "cell_type": "markdown",
   "metadata": {},
   "source": [
    "结构化查询语言SQL（STRUCTURED QUERY LANGUAGE）是最重要的关系数据库操作语言，并且它的影响已经超出数据库领域，得到其他领域的重视和采用，如人工智能领域的数据检索，第四代软件开发工具中嵌入SQL的语言等。\n"
   ]
  },
  {
   "cell_type": "markdown",
   "metadata": {},
   "source": [
    "## Basic query in MySQL\n",
    "###1. CREATE TABLE\n", 
    "create table table_name\n",
       "\n",
     "(column1 data type(NULL||NOT NULL));\n",
       "\n",
     "desc: create a table\n ",
       "\n",
    "###2. SHOW table\n",
  "show CREATE TABLE table_name;\n",
       "\n",
     "desc: show the table in your database\n",
    "###3. INSERT\n",
    "insert into table_name\n",
      "\n",
    "values('value1','value2',......);\n",
      "\n",
    "desc: insert new rows of data into the database\n",
      "\n",
"###4. SELECT \n",
"select * from table table_name.\n",
 "\n",
"desc: return data from the table\n",
"\n",
    "###5. SELECT\n",
   "select column1,column2,... \n",
    "\n",
    "from table1,table2...\n",
     "\n",
    "[where conditions]\n",
     "\n",
    "[group by column1,column2...]\n",
     "\n",
    "[having conditions]\n",
     "\n",
    "[order by column1,column2...]\n",
     "\n",
    "desc: return data from one or more database tables\n",
     "\n",
"###6. UPDATE\n" ,
    "update table_name set\n",
       "\n",
    "column1='value1,column2='value2'...\n",
       "\n",
    "[where conditions]\n",
     "\n",
    "desc: update existing data in the table\n",
       "\n",
    "### 7. DELETE\n",
  "delete from table_name\n",
       "\n",
    "[where conditions]\n",
       "\n",
    "desc: delete rows of data from a table\n"
   
   ]
  },
  {
   "cell_type": "markdown",
   "metadata": {},
   "source": [
    "##MySQL class\n",
   "###1. SELECT\n" ,
    "select *\n",
       "\n",
    "select col1,col2...\n",
       "\n",
    "select distinct(column)\n",
      "\n",
    "select count(*)\n",
       "\n",
    " desc: define columns to display as part of query output\n",
     "\n",
    "### 2. FROM\n",
  "from table1,table2,table3...\n",
       "\n",
    "desc: defines tables from which to retrieve data\n",
       "\n",
    "### 3. GROUP BY\n",
  "group by grp_col1,grp_col2...\n",
       "\n",
    "desc: a form of a sorting used to devide output into logical groups\n",
       "\n",
      "### 4. HAVING\n",
  "having grp_col1='value1'\n",
       "\n",
    "AND grp_col2='value2''\n",
       "\n",
    "desc: similar to the where clause, used to place conditions on the group clause\n",
       "\n",
      "### 5. ORDER BY\n",
  "order by col1,col2...\n",
       "\n",
    "desc: used to sort a query's result\n"
   ]
  },
  {
   "cell_type": "markdown",
   "metadata": {},
   "source": [
    "## MySQL Functions\n",
    "\n",
    "1. rand()\n",
     "\n",
"desc: return random values\n",
     "\n",
"2. sum()\n",
     "\n",
    "desc: return the sum of the values\n",
     "\n",
    "3. now()\n",
     "\n",
    "desc: return the time an date of the system\n",
     "\n",
    "4. count()\n",
     "\n",
    "desc: return the count of the values which satisfy the given condition\n"
   ]
  },
   {
   "cell_type": "markdown",
   "metadata": {},
   "source": [
    "## Innodb中的锁\n",
    "\n",
  "InnoDB存储引擎锁的实现和Oracle非常类似，提供一致性的非锁定读、行级锁支持、行级锁没有相关的开销，可以同时得到并发性和一致性。\n", 
   "\n",
"InnoDB存储引擎实现了如下两种标准的行级锁：\n", 
   "\n",
"共享锁(S Lock)：允许事务读一行数据； \n",
   "\n",
"排他锁(X Lock)：允许事务删除或者更新一行数据。\n",
   "\n",
"当一个事务已经获得了行r的共享锁，那么另外的事务可以立即获得行r的共享锁，因为读取没有改变行r的数据，我们称这种情况为锁兼容。但如果有事务想获得行r的排他锁，则它必须等待事务释放行r上的共享锁————这种情况称为锁不兼容。\n"

   ]
  },
    {
   "cell_type": "markdown",
   "metadata": {},
   "source": [
    "## Innodb中的事务\n",
    "\n",
  "事务的四个特性：原子性、一致性、隔离性、持久性\n", 
    "\n",
"隔离性通过锁实现，原子性、一致性、持久性通过数据库的redo和undo来完成。\n", 
  "\n",
    "重做日志记录了事务的行为，通过redo实现，保证了事务的完整性，但事务有时还需要撤销，这时就需要产生undo。undo和redo正好相反，对于数据库进行修改时，数据库不但会产生redo，而且还会产生一定的undo，即使执行的事务或语句由于某种原因失败了，或者如果用一条rollback语句请求回滚，就可以用这些undo信息将数据回滚到修改之前的样子。与redo不同的是,redo存放在重做日志文件中，undo存放在数据库内部的一个特殊段(segment)中，这称为undo段(undo segment)，undo段位于共享表空间内。还有一点重要的是，undo记录的是与事务操作相反的逻辑操作，如insert undo 记录一个delete，所以undo只是逻辑地将数据库恢复成事务开始前的样子。如:insert 10万行的数据，可能导致表空间增大，回滚后，表空间不会减小回去。\n"
   ]
  }
 ],
 "metadata": {
  "anaconda-cloud": {},
  "kernelspec": {
   "display_name": "Python 3",
   "language": "python",
   "name": "python3"
  },
  "language_info": {
   "codemirror_mode": {
    "name": "ipython",
    "version": 3
   },
   "file_extension": ".py",
   "mimetype": "text/x-python",
   "name": "python",
   "nbconvert_exporter": "python",
   "pygments_lexer": "ipython3",
   "version": "3.5.1"
  }
 },
 "nbformat": 4,
 "nbformat_minor": 0
}

  

