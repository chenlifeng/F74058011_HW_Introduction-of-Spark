{
 "cells": [
  {
   "cell_type": "markdown",
   "metadata": {},
   "source": [
    "# SQL——Structured Query Language\n"
   ]
  },
  {
   "cell_type": "markdown",
   "metadata": {},
   "source": [
    "结构化查询语言SQL（STRUCTURED QUERY LANGUAGE）是最重要的关系数据库操作语言，并且它的影响已经超出数据库领域，得到其他领域的重视和采用，如人工智能领域的数据检索，第四代软件开发工具中嵌入SQL的语言等。\n"
   ]
  },
  {
   "cell_type": "markdown",
   "metadata": {},
   "source": [
    "## Basic query in MySQL\n",
    "###1. CREATE TABLE\n", 
    "create table table_name\n",
       "\n",
     "(column1 data type(NULL||NOT NULL));\n",
       "\n",
     "desc: create a table\n ",
       "\n",
    "###2. SHOW table\n",
  "show CREATE TABLE table_name;\n",
       "\n",
     "desc: show the table in your database\n",
    "###3. INSERT\n",
    "insert into table_name\n",
      "\n",
    "values('value1','value2',......);\n",
      "\n",
    "desc: insert new rows of data into the database\n",
      "\n",
"###4. SELECT \n",
"select * from table table_name.\n",
 "\n",
"desc: return data from the table\n",
"\n",
    "###5. SELECT\n",
   "select column1,column2,... \n",
    "\n",
    "from table1,table2...\n",
     "\n",
    "[where conditions]\n",
     "\n",
    "[group by column1,column2...]\n",
     "\n",
    "[having conditions]\n",
     "\n",
    "[order by column1,column2...]\n",
     "\n",
    "desc: return data from one or more database tables\n",
     "\n",
"###6. UPDATE\n" ,
    "update table_name set\n",
       "\n",
    "column1='value1,column2='value2'...\n",
       "\n",
    "[where conditions]\n",
     "\n",
    "desc: update existing data in the table\n",
       "\n",
    "### 7. DELETE\n",
  "delete from table_name\n",
       "\n",
    "[where conditions]\n",
       "\n",
    "desc: delete rows of data from a table\n"
   
   ]
  },
  {
   "cell_type": "markdown",
   "metadata": {},
   "source": [
    "##MySQL class\n",
   "###1. SELECT\n" ,
    "select *\n",
       "\n",
    "select col1,col2...\n",
       "\n",
    "select distinct(column)\n",
      "\n",
    "select count(*)\n",
       "\n",
    " desc: define columns to display as part of query output\n",
     "\n",
    "### 2. FROM\n",
  "from table1,table2,table3...\n",
       "\n",
    "desc: defines tables from which to retrieve data\n",
       "\n",
    "### 3. GROUP BY\n",
  "group by grp_col1,grp_col2...\n",
       "\n",
    "desc: a form of a sorting used to devide output into logical groups\n",
       "\n",
      "### 4. HAVING\n",
  "having grp_col1='value1'\n",
       "\n",
    "AND grp_col2='value2''\n",
       "\n",
    "desc: similar to the where clause, used to place conditions on the group clause\n",
       "\n",
      "### 5. ORDER BY\n",
  "order by col1,col2...\n",
       "\n",
    "desc: used to sort a query's result\n"
   ]
  },
  {
   "cell_type": "markdown",
   "metadata": {},
   "source": [
    "## MySQL Functions\n",
    "\n",
    "###1. rand()\n",
     "\n",
"desc: return random values\n",
     "\n",
"###2. sum()\n",
     "\n",
    "desc: return the sum of the values\n",
     "\n",
    "###3. now()\n",
     "\n",
    "desc: return the time an date of the system\n",
     "\n",
    "###4. count()\n",
     "\n",
    "desc: return the count of the values which satisfy the given condition\n"
   ]
  }
 ],
 "metadata": {
  "anaconda-cloud": {},
  "kernelspec": {
   "display_name": "Python 3",
   "language": "python",
   "name": "python3"
  },
  "language_info": {
   "codemirror_mode": {
    "name": "ipython",
    "version": 3
   },
   "file_extension": ".py",
   "mimetype": "text/x-python",
   "name": "python",
   "nbconvert_exporter": "python",
   "pygments_lexer": "ipython3",
   "version": "3.5.1"
  }
 },
 "nbformat": 4,
 "nbformat_minor": 0
}

  

