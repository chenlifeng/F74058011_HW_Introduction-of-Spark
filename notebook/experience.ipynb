{
 "cells": [
  {
   "cell_type": "markdown",
   "metadata": {},
   "source": [
    "# 个人使用MySQL学习心得\n"
   ]
  },
   {
   "cell_type": "markdown",
   "metadata": {},
   "source": [
    "##使用方面：\n", 
    "对于MySQL，最简单的衡量查询开销的三个指标如下：\n",
      "\n",
"响应时间 扫描的行数 返回的行数\n",
      "\n",
"一般MySQL能够使用如下三种方式应用where条件：从好到坏依次为：\n",
      "\n",
"1.在索引中使用where条件过滤不匹配的记录。这是在存储引擎完成的\n",
      "\n",
"2.使用索引覆盖扫描来返回记录（在Extra列中出现了Using index）来返回记录，直接从索引中过滤不需要的记录并返回命中的结果。这是在MySQL服务器层完成的，但无需再回表查询记录\n",
      "\n",
"3.从数据表中返回数据，然后过滤不满足条件的记录（在Extra列中出现Using where）。这在MySQL服务器层完成，MySQL需要先从数据库表读出记录然后过滤\n",
      "\n",
    "如果发现需要扫描大量的数据但只返回少数的行，那么通常可以尝试下面的技巧去优化它\n",
       "\n",
"1.使用索引覆盖扫描，把所有需要的列都放到索引中，这样存储引擎无须回表获取对应行就可以返回结果了\n",
       "\n",
"2.改变库表结构。例如使用单独的汇总表\n",
       "\n",
"3.重写这个复杂的查询，让MySQL优化器能够以更优化的方式执行这个查询\n",
       "\n",
    "##安全问题：(参考博客：http://www.php100.com/html/program/mysql/2013/0904/1338.html)\n",
      "\n",
    "我们知道，在安装完MySQL后，它会自动创建一个root用户和一个匿名用户，其初始密码都是空，对于前者，很多参考资料上都会提醒大家要注意及时设定一个密码，而忽略了后者，大概是因为后者默认设定为只能在本机使用的缘故吧。但如果你的MySQL是要提供给Web服务器作数据库服务的，忽略这个匿名用户的代价可能相当惨重，因为在默认设置下，这个匿名用户在localhost上几乎拥有和root一样的权限，这时候，如果你的客户拥有上传脚本文件、脚本文件可以进行MySQL数据库操作（比如允许操作MySQL的php)的权限已经可能将你的MySQL改动得面目全非了:\n",
      "\n",
     "改进建议：\n",
    "\n",
　"1. 在安装完成MySQL 后，不仅改变root用户的的密码，也同时改变匿名用户的密码，方法类似改变root的密码的方式：\n"
    
   ]
  }
 ],
 "metadata": {
  "anaconda-cloud": {},
  "kernelspec": {
   "display_name": "Python 3",
   "language": "python",
   "name": "python3"
  },
  "language_info": {
   "codemirror_mode": {
    "name": "ipython",
    "version": 3
   },
   "file_extension": ".py",
   "mimetype": "text/x-python",
   "name": "python",
   "nbconvert_exporter": "python",
   "pygments_lexer": "ipython3",
   "version": "3.5.1"
  }
 },
 "nbformat": 4,
 "nbformat_minor": 0
}

  

