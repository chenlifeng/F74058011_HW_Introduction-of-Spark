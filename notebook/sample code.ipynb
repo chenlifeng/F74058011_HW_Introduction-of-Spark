{
 "cells": [
  {
   "cell_type": "markdown",
   "metadata": {},
   "source": [
    "# Demo code\n"
   ]
  },
  {
   "cell_type": "markdown",
   "metadata": {},
   "source": [
    "## 1. Creating and Deleting a Database - CREATE DATABASE and DROP DATABASE\n",
    "mysql> CREATE DATABASE southwind;\n",
     "\n",
"Query OK, 1 row affected (0.03 sec)\n",
    "\n",
"mysql> DROP DATABASE southwind;\n",
      "\n",
"Query OK, 0 rows affected (0.11 sec)\n",
    "\n",
"mysql> CREATE DATABASE IF NOT EXISTS southwind;\n",
      "\n",
"Query OK, 1 row affected (0.01 sec)\n",
    "\n",
"mysql> DROP DATABASE IF EXISTS southwind;\n",
      "\n",
"Query OK, 0 rows affected (0.00 sec)\n"
  
   
   ]
  },
  {
   "cell_type": "markdown",
   "metadata": {},
   "source": [
    "##2. Creating and Deleting a Table - CREATE TABLE and DROP TABLE\n",
         "mysql> CREATE TABLE IF NOT EXISTS products (\n",
    "\n",
         "productID    INT UNSIGNED  NOT NULL AUTO_INCREMENT,\n",
       "\n",
        " productCode  CHAR(3)       NOT NULL DEFAULT '',\n",
       "\n",
         "name         VARCHAR(30)   NOT NULL DEFAULT '',\n",
       "\n",
         "quantity     INT UNSIGNED  NOT NULL DEFAULT 0,\n",
       "\n",
         "price        DECIMAL(7,2)  NOT NULL DEFAULT 99999.99,\n",
       "\n",
         "PRIMARY KEY  (productID)\n",
     "\n",
      " );\n",
     "\n",
"Query OK, 0 rows affected (0.08 sec)\n",
      "\n",
    "mysql> DESCRIBE products;\n",
      "\n",
"+-------------+------------------+------+-----+------------+----------------+\n",
      "\n",
"| Field       | Type             | Null | Key | Default    | Extra          |\n",
      "\n",
"+-------------+------------------+------+-----+------------+----------------+
"| productID   | int(10) unsigned | NO   | PRI | NULL       | auto_increment |\n",
      "\n",
"| productCode | char(3)          | NO   |     |            |                |\n",
      "\n",
"| name        | varchar(30)      | NO   |     |            |                |\n",
      "\n",
"| quantity    | int(10) unsigned | NO   |     | 0          |                |\n",
      "\n",
"| price       | decimal(7,2)     | NO   |     | 99999.99   |                |\n",
      "\n",
"+-------------+------------------+------+-----+------------+----------------+\n"
   ]
  },
  {
   "cell_type": "markdown",
   "metadata": {},
   "source": [
    "## MySQL Functions\n",
    "\n",
    "###1. rand()\n",
     "\n",
"desc: return random values\n",
     "\n",
"###2. sum()\n",
     "\n",
    "desc: return the sum of the values\n",
     "\n",
    "###3. now()\n",
     "\n",
    "desc: return the time an date of the system\n",
     "\n",
    "###4. count()\n",
     "\n",
    "desc: return the count of the values which satisfy the given condition\n"
   ]
  }
 ],
 "metadata": {
  "anaconda-cloud": {},
  "kernelspec": {
   "display_name": "Python 3",
   "language": "python",
   "name": "python3"
  },
  "language_info": {
   "codemirror_mode": {
    "name": "ipython",
    "version": 3
   },
   "file_extension": ".py",
   "mimetype": "text/x-python",
   "name": "python",
   "nbconvert_exporter": "python",
   "pygments_lexer": "ipython3",
   "version": "3.5.1"
  }
 },
 "nbformat": 4,
 "nbformat_minor": 0
}

  


